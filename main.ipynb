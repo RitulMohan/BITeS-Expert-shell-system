{
 "cells": [
  {
   "cell_type": "code",
   "execution_count": 1,
   "metadata": {
    "collapsed": true,
    "ExecuteTime": {
     "end_time": "2023-06-22T18:38:25.554806Z",
     "start_time": "2023-06-22T18:38:25.539089Z"
    }
   },
   "outputs": [],
   "source": [
    "from experta import *\n",
    "import copy"
   ]
  },
  {
   "cell_type": "code",
   "execution_count": 38,
   "outputs": [
    {
     "name": "stdout",
     "output_type": "stream",
     "text": [
      "Recommended restaurants:\n",
      "Restaurant: Maggi Hotspot\n",
      "meal: Lunch, Dinner, Late night Snack\n",
      "location: CP\n",
      "Cuisines: Maggi, Biryani\n",
      "Service: seating available\n",
      "Price: Expensive\n",
      "\n"
     ]
    }
   ],
   "source": [
    "class Restaurant:\n",
    "    def __init__(self, name, meal,location, cuisines, service, price):\n",
    "        self.name = name\n",
    "        self.meal = meal\n",
    "        self.location = location\n",
    "        self.cuisines = cuisines\n",
    "        self.service = service\n",
    "        self.price = price\n",
    "\n",
    "class UserInput(Fact):\n",
    "    pass\n",
    "\n",
    "class RecommenderSystem(KnowledgeEngine):\n",
    "    @DefFacts()\n",
    "    def initial_facts(self):\n",
    "        yield Fact(action=\"recommend\")\n",
    "\n",
    "    @Rule(UserInput(meal=MATCH.meal, location=MATCH.location, cuisine=MATCH.cuisine, service=MATCH.service, price=MATCH.price), Fact(action=\"recommend\"))\n",
    "    def recommend_restaurant(self, meal, location, cuisine, service, price):\n",
    "        # Define a list of restaurants\n",
    "        restaurants = [\n",
    "            Restaurant(\"Yumpys\", [\"Lunch\", \"Dinner\", \"Late night Snack\"],\"Mess 1\", [\"Chinese\", \"Maggi\", \"Biryani\"], \"seating available\", \"Budget Friendly\"),\n",
    "            Restaurant(\"Maggi Hotspot\",[\"Lunch\", \"Dinner\", \"Late night Snack\"],\"CP\", [\"Maggi\", \"Biryani\"], \"seating available\", \"Expensive\"),\n",
    "            Restaurant(\"Chipotle\", [\"Lunch\", \"Dinner\", \"Late night Snack\"],\"Mess 1\", [\"South Indian\"], \"takeaway only\", \"Expensive\"),\n",
    "            Restaurant(\"Wich Please!\", [\"Dinner\", \"Late night Snack\"],\"Mess 2\", [\"Sandwich\"], \"seating available\", \"Moderate\"),\n",
    "            Restaurant(\"SFC\",[\"Dinner\", \"Late night Snack\"],\"Mess 2\", [\"Burger\", \"Fries\"], \"seating available\", \"Moderate\"),\n",
    "            Restaurant(\"Fruitful!\", [\"Dinner\"], \"CP\", [\"Desert\", \"Burger\", \"Fries\"], \"seating available\", \"Expensive\"),\n",
    "            Restaurant(\"Agra Chaat\",[\"Lunch\", \"Dinner\"],\"CP\", [\"North Indian\"], \"seating available\", \"Budget Friendly\"),\n",
    "            Restaurant(\"Vijay Vahini Foods\",[\"Lunch\", \"Dinner\"],\"CP\", [\"North Indian\", \"Biryani\", \"Chinese\"], \"seating available\", \"Moderate\"),\n",
    "            Restaurant(\"Cafetaria\", [\"Breakfast\", \"Lunch\", \"Dinner\"],\"Academic Block\", [\"North Indian\", \"South Indian\", \"Desert\", \"Chinese\"], \"seating available\", \"Moderate\"),\n",
    "            Restaurant(\"Cafe Coffee Day\",[\"Breakfast\", \"Lunch\"], \"Academic Block\", [\"Sandwich\"], \"takeaway only\", \"Expensive\")\n",
    "        ]\n",
    "\n",
    "        # Define the weights for each criterion\n",
    "        weights = {\n",
    "            \"meal\": 600,\n",
    "            \"location\":200,\n",
    "            \"cuisine\": 100,\n",
    "            \"budget\": 75,\n",
    "            \"service\": 25\n",
    "        }\n",
    "\n",
    "        # Calculate scores for each restaurant based on weighted sum\n",
    "        scores = []\n",
    "        for restaurant in restaurants:\n",
    "            score = (\n",
    "                    (meal.lower() in [c.lower() for c in restaurant.meal]) * weights[\"meal\"]+\n",
    "                    (location.lower() == restaurant.location.lower()) * weights[\"location\"]+\n",
    "                    (cuisine.lower() in [c.lower() for c in restaurant.cuisines]) * weights[\"cuisine\"] +\n",
    "                    (price.lower() == restaurant.price.lower()) * weights[\"budget\"] +\n",
    "                    (service.lower() == restaurant.service.lower()) * weights[\"service\"]\n",
    "            )\n",
    "            scores.append(score)\n",
    "\n",
    "\n",
    "        # Find the indices of the restaurants with the highest scores\n",
    "        max_scores = max(scores)\n",
    "        # Find the indices of the restaurants with the highest scores\n",
    "        best_restaurant_indices = [i for i, score in sorted(enumerate(scores), key=lambda x: x[1], reverse=True) if score >= 900]\n",
    "\n",
    "        if best_restaurant_indices:\n",
    "            print(\"Recommended restaurants:\")\n",
    "            for index in best_restaurant_indices:\n",
    "                best_restaurant = restaurants[index]\n",
    "                print(\"Restaurant:\", best_restaurant.name)\n",
    "                print(\"meal:\", ', '.join(best_restaurant.meal))\n",
    "                print(\"location:\", best_restaurant.location)\n",
    "                print(\"Cuisines:\", ', '.join(best_restaurant.cuisines))\n",
    "                print(\"Service:\", best_restaurant.service)\n",
    "                print(\"Price:\", best_restaurant.price)\n",
    "                print()\n",
    "        else:\n",
    "            print(\"No restaurants found matching the criteria.\")\n",
    "\n",
    "\n",
    "# Create an instance of the recommender system\n",
    "engine = RecommenderSystem()\n",
    "\n",
    "# Run the engine to get recommendations based on user input\n",
    "engine.reset()\n",
    "\n",
    "meal1 = input(\"Enter your preferred meal time (e.g., Breakfast,Lunch, Dinner): \")\n",
    "location1 = input(\"Enter your preferred location: \")\n",
    "cuisine1 = input(\"Enter your preferred cuisine: \")\n",
    "service1 = input(\"Enter your preferred service type (e.g., seating available, takeaway only): \")\n",
    "price1 = input(\"Enter your preferred price range (e.g., Budget Friendly, Moderate, Expensive): \")\n",
    "\n",
    "engine.declare(UserInput(meal=meal1, location=location1, cuisine=cuisine1, service=service1, price=price1))\n",
    "engine.run()\n"
   ],
   "metadata": {
    "collapsed": false,
    "ExecuteTime": {
     "end_time": "2023-06-20T14:36:46.857325Z",
     "start_time": "2023-06-20T14:35:24.186362Z"
    }
   }
  },
  {
   "cell_type": "code",
   "execution_count": null,
   "outputs": [],
   "source": [
    "|"
   ],
   "metadata": {
    "collapsed": false
   }
  }
 ],
 "metadata": {
  "kernelspec": {
   "display_name": "Python 3",
   "language": "python",
   "name": "python3"
  },
  "language_info": {
   "codemirror_mode": {
    "name": "ipython",
    "version": 2
   },
   "file_extension": ".py",
   "mimetype": "text/x-python",
   "name": "python",
   "nbconvert_exporter": "python",
   "pygments_lexer": "ipython2",
   "version": "2.7.6"
  }
 },
 "nbformat": 4,
 "nbformat_minor": 0
}
